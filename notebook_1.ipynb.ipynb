{
  "nbformat": 4,
  "nbformat_minor": 0,
  "metadata": {
    "colab": {
      "provenance": []
    },
    "kernelspec": {
      "name": "python3",
      "display_name": "Python 3"
    },
    "language_info": {
      "name": "python"
    }
  },
  "cells": [
    {
      "cell_type": "markdown",
      "source": [
        "📄 Data Science Report - Trader Behavior vs Market Sentiment\n",
        "\n",
        "Project Title:\n",
        "\n",
        "Analyzing Trader Behavior Relative to Fear & Greed Index\n",
        "\n",
        "Project Summary: Sentiment-Based Trading Analysis\n",
        "\n",
        "This project explores the relationship between market sentiment and trading profitability using historical trader data and the Fear-Greed Index.\n",
        "\n",
        "🔹 Objective\n",
        "\n",
        "To analyze whether trader profitability (Closed PnL) correlates with public market sentiment — Fear or Greed — and simulate a simplified trading bot based on Binance Futures API.\n",
        "\n",
        "📂 Datasets Used\n",
        "historical_data.csv: Contains anonymous trader information including positions, sizes, PnL, and trade times.\n",
        "\n",
        "fear_greed_index.csv: Daily crypto market sentiment data labeled as \"Fear\" or \"Greed\".\n",
        "\n",
        "🧼 Data Preprocessing\n",
        "Cleaned column names and standardized timestamps.\n",
        "\n",
        "Merged both datasets on trade date.\n",
        "\n",
        "Verified matching rows for analysis.\n",
        "\n",
        "📊 Analysis Performed\n",
        "Grouped trades by market sentiment.\n",
        "\n",
        "Calculated average and total profit/loss per sentiment group.\n",
        "\n",
        "Visualized PnL distribution using seaborn bar plots.\n",
        "\n",
        "📈 Key Insight\n",
        "The final bar chart illustrates how trader profitability changes with sentiment — helping evaluate if market psychology impacts trading outcomes.\n",
        "\n",
        "🤖 Binance Futures Testnet Bot\n",
        "A simulated trading bot was built using the python-binance library to fulfill the technical implementation part of the assignment.\n",
        "\n",
        "⚙️ Features:\n",
        "Accepts input from command line (symbol, quantity, type)\n",
        "\n",
        "Supports both Market and Limit orders\n",
        "\n",
        "Simulated order placements (no real execution)\n",
        "\n",
        "Logs actions to bot.log for review\n",
        "\n",
        "Designed with reusability and input validation in mind\n",
        "\n",
        "⚠️ Note: API keys are placeholders. No real trades are made — this implementation is for assignment/demo purposes only.\n",
        "###\n",
        "This bot uses sample API keys and **simulates** trading behavior only.  \n",
        "No real orders are placed. This implementation is for **assignment purposes only.**"
      ],
      "metadata": {
        "id": "9anxuoFI-VW6"
      }
    },
    {
      "cell_type": "code",
      "execution_count": null,
      "metadata": {
        "colab": {
          "base_uri": "https://localhost:8080/"
        },
        "id": "FzIrrVPknHCr",
        "outputId": "8159b470-34f6-4e37-f152-180182fb71a8"
      },
      "outputs": [
        {
          "output_type": "stream",
          "name": "stdout",
          "text": [
            "                                      Account  Coin  Execution Price  \\\n",
            "0  0xae5eacaf9c6b9111fd53034a602c192a04e082ed  @107           7.9769   \n",
            "1  0xae5eacaf9c6b9111fd53034a602c192a04e082ed  @107           7.9800   \n",
            "2  0xae5eacaf9c6b9111fd53034a602c192a04e082ed  @107           7.9855   \n",
            "3  0xae5eacaf9c6b9111fd53034a602c192a04e082ed  @107           7.9874   \n",
            "4  0xae5eacaf9c6b9111fd53034a602c192a04e082ed  @107           7.9894   \n",
            "\n",
            "   Size Tokens  Size USD Side     Timestamp IST  Start Position Direction  \\\n",
            "0       986.87   7872.16  BUY  02-12-2024 22:50        0.000000       Buy   \n",
            "1        16.00    127.68  BUY  02-12-2024 22:50      986.524596       Buy   \n",
            "2       144.09   1150.63  BUY  02-12-2024 22:50     1002.518996       Buy   \n",
            "3       142.98   1142.04  BUY  02-12-2024 22:50     1146.558564       Buy   \n",
            "4         8.73     69.75  BUY  02-12-2024 22:50     1289.488521       Buy   \n",
            "\n",
            "   Closed PnL                                   Transaction Hash     Order ID  \\\n",
            "0         0.0  0xec09451986a1874e3a980418412fcd0201f500c95bac...  52017706630   \n",
            "1         0.0  0xec09451986a1874e3a980418412fcd0201f500c95bac...  52017706630   \n",
            "2         0.0  0xec09451986a1874e3a980418412fcd0201f500c95bac...  52017706630   \n",
            "3         0.0  0xec09451986a1874e3a980418412fcd0201f500c95bac...  52017706630   \n",
            "4         0.0  0xec09451986a1874e3a980418412fcd0201f500c95bac...  52017706630   \n",
            "\n",
            "   Crossed       Fee      Trade ID     Timestamp  \n",
            "0     True  0.345404  8.950000e+14  1.730000e+12  \n",
            "1     True  0.005600  4.430000e+14  1.730000e+12  \n",
            "2     True  0.050431  6.600000e+14  1.730000e+12  \n",
            "3     True  0.050043  1.080000e+15  1.730000e+12  \n",
            "4     True  0.003055  1.050000e+15  1.730000e+12  \n",
            "    timestamp  value classification        date\n",
            "0  1517463000     30           Fear  2018-02-01\n",
            "1  1517549400     15   Extreme Fear  2018-02-02\n",
            "2  1517635800     40           Fear  2018-02-03\n",
            "3  1517722200     24   Extreme Fear  2018-02-04\n",
            "4  1517808600     11   Extreme Fear  2018-02-05\n"
          ]
        }
      ],
      "source": [
        "import pandas as pd\n",
        "\n",
        "# Load datasets\n",
        "trader_df = pd.read_csv('/content/historical_data.csv')\n",
        "sentiment_df = pd.read_csv('/content/fear_greed_index.csv')\n",
        "\n",
        "# Preview data\n",
        "print(trader_df.head())\n",
        "print(sentiment_df.head())\n",
        "\n"
      ]
    },
    {
      "cell_type": "code",
      "source": [
        "print(\"Sentiment Data Columns:\", sentiment_df.columns.tolist())\n",
        "print(\"Trader Data Columns:\", trader_df.columns.tolist())\n",
        "\n",
        "\n"
      ],
      "metadata": {
        "id": "FH6BvuBRp2Eo",
        "colab": {
          "base_uri": "https://localhost:8080/"
        },
        "outputId": "e8b2bfef-aec1-4aaf-e41f-de6425d54674"
      },
      "execution_count": null,
      "outputs": [
        {
          "output_type": "stream",
          "name": "stdout",
          "text": [
            "Sentiment Data Columns: ['timestamp', 'value', 'classification', 'date']\n",
            "Trader Data Columns: ['Account', 'Coin', 'Execution Price', 'Size Tokens', 'Size USD', 'Side', 'Timestamp IST', 'Start Position', 'Direction', 'Closed PnL', 'Transaction Hash', 'Order ID', 'Crossed', 'Fee', 'Trade ID', 'Timestamp']\n"
          ]
        }
      ]
    },
    {
      "cell_type": "code",
      "source": [
        "trader_df.columns = trader_df.columns.str.strip()\n",
        "sentiment_df.columns = sentiment_df.columns.str.strip()\n",
        "\n",
        "# Convert to datetime\n",
        "sentiment_df['date'] = pd.to_datetime(sentiment_df['date'], errors='coerce')\n",
        "trader_df['Timestamp IST'] = pd.to_datetime(trader_df['Timestamp IST'], errors='coerce')\n",
        "\n",
        "#  Extract just the date\n",
        "sentiment_df['date'] = sentiment_df['date'].dt.date\n",
        "trader_df['Timestamp IST'] = trader_df['Timestamp IST'].dt.date\n",
        "\n",
        "# Merge both datasets on date\n",
        "merged_df = pd.merge(trader_df, sentiment_df, left_on='Timestamp IST', right_on='date', how='inner')\n",
        "\n",
        "# Show preview\n",
        "print(\"Unique Sentiments:\", merged_df['classification'].unique())\n",
        "print(\"Sample Merged Data:\")\n",
        "print(merged_df[['Timestamp IST', 'Closed PnL', 'classification']].head())"
      ],
      "metadata": {
        "id": "Q3unO3q-r9Qe",
        "colab": {
          "base_uri": "https://localhost:8080/"
        },
        "outputId": "79b06e33-415a-479e-efe0-a734503bbac9"
      },
      "execution_count": null,
      "outputs": [
        {
          "output_type": "stream",
          "name": "stdout",
          "text": [
            "Unique Sentiments: ['Greed' 'Extreme Greed' 'Fear' 'Extreme Fear' 'Neutral']\n",
            "Sample Merged Data:\n",
            "  Timestamp IST  Closed PnL classification\n",
            "0    2024-02-12         0.0          Greed\n",
            "1    2024-02-12         0.0          Greed\n",
            "2    2024-02-12         0.0          Greed\n",
            "3    2024-02-12         0.0          Greed\n",
            "4    2024-02-12         0.0          Greed\n"
          ]
        }
      ]
    },
    {
      "cell_type": "code",
      "source": [
        "#  Group by Sentiment and Calculate Stats\n",
        "summary = merged_df.groupby('classification')['Closed PnL'].agg(['mean', 'sum', 'count']).round(2)\n",
        "print(summary)"
      ],
      "metadata": {
        "id": "2cM77wb5tVrB",
        "colab": {
          "base_uri": "https://localhost:8080/"
        },
        "outputId": "86d63737-3b88-4b27-c395-c2e9cde003bd"
      },
      "execution_count": null,
      "outputs": [
        {
          "output_type": "stream",
          "name": "stdout",
          "text": [
            "                  mean         sum  count\n",
            "classification                           \n",
            "Extreme Fear      1.89     4399.94   2326\n",
            "Extreme Greed   205.82  1156893.68   5621\n",
            "Fear            128.29  1779225.58  13869\n",
            "Greed            53.99   609632.53  11292\n",
            "Neutral          27.09    74656.74   2756\n"
          ]
        }
      ]
    },
    {
      "cell_type": "code",
      "source": [
        "# Step 8: Plot\n",
        "import matplotlib.pyplot as plt\n",
        "import seaborn as sns\n",
        "import os\n",
        "\n",
        "# Create folder\n",
        "os.makedirs('outputs', exist_ok=True)\n",
        "\n",
        "plt.figure(figsize=(8, 5))\n",
        "sns.barplot(data=merged_df, x='classification', y='Closed PnL')\n",
        "plt.title(\"Average Closed PnL by Market Sentiment\")\n",
        "plt.xlabel(\"Market Sentiment\")\n",
        "plt.ylabel(\"Closed PnL\")\n",
        "plt.tight_layout()\n",
        "plt.grid(True)\n",
        "plt.savefig('outputs/pnl_by_sentiment.png')\n",
        "plt.show()\n",
        "\n"
      ],
      "metadata": {
        "id": "N3_J7ZO-td_c",
        "colab": {
          "base_uri": "https://localhost:8080/",
          "height": 507
        },
        "outputId": "ba573c1f-fd6e-436c-c27b-4e1a13237fbf"
      },
      "execution_count": null,
      "outputs": [
        {
          "output_type": "display_data",
          "data": {
            "text/plain": [
              "<Figure size 800x500 with 1 Axes>"
            ],
            "image/png": "[encoded data removed]"
          },
          "metadata": {}
        }
      ]
    },
    {
      "cell_type": "code",
      "metadata": {
        "id": "e871c946",
        "colab": {
          "base_uri": "https://localhost:8080/"
        },
        "outputId": "52efd303-858f-4270-8dfe-aec2965ca169"
      },
      "source": [
        "%pip install python-binance"
      ],
      "execution_count": null,
      "outputs": [
        {
          "output_type": "stream",
          "name": "stdout",
          "text": [
            "Requirement already satisfied: python-binance in /usr/local/lib/python3.11/dist-packages (1.0.29)\n",
            "Requirement already satisfied: requests in /usr/local/lib/python3.11/dist-packages (from python-binance) (2.32.3)\n",
            "Requirement already satisfied: six in /usr/local/lib/python3.11/dist-packages (from python-binance) (1.17.0)\n",
            "Requirement already satisfied: dateparser in /usr/local/lib/python3.11/dist-packages (from python-binance) (1.2.2)\n",
            "Requirement already satisfied: aiohttp in /usr/local/lib/python3.11/dist-packages (from python-binance) (3.11.15)\n",
            "Requirement already satisfied: websockets in /usr/local/lib/python3.11/dist-packages (from python-binance) (15.0.1)\n",
            "Requirement already satisfied: pycryptodome in /usr/local/lib/python3.11/dist-packages (from python-binance) (3.23.0)\n",
            "Requirement already satisfied: aiohappyeyeballs>=2.3.0 in /usr/local/lib/python3.11/dist-packages (from aiohttp->python-binance) (2.6.1)\n",
            "Requirement already satisfied: aiosignal>=1.1.2 in /usr/local/lib/python3.11/dist-packages (from aiohttp->python-binance) (1.4.0)\n",
            "Requirement already satisfied: attrs>=17.3.0 in /usr/local/lib/python3.11/dist-packages (from aiohttp->python-binance) (25.3.0)\n",
            "Requirement already satisfied: frozenlist>=1.1.1 in /usr/local/lib/python3.11/dist-packages (from aiohttp->python-binance) (1.7.0)\n",
            "Requirement already satisfied: multidict<7.0,>=4.5 in /usr/local/lib/python3.11/dist-packages (from aiohttp->python-binance) (6.6.3)\n",
            "Requirement already satisfied: propcache>=0.2.0 in /usr/local/lib/python3.11/dist-packages (from aiohttp->python-binance) (0.3.2)\n",
            "Requirement already satisfied: yarl<2.0,>=1.17.0 in /usr/local/lib/python3.11/dist-packages (from aiohttp->python-binance) (1.20.1)\n",
            "Requirement already satisfied: python-dateutil>=2.7.0 in /usr/local/lib/python3.11/dist-packages (from dateparser->python-binance) (2.9.0.post0)\n",
            "Requirement already satisfied: pytz>=2024.2 in /usr/local/lib/python3.11/dist-packages (from dateparser->python-binance) (2025.2)\n",
            "Requirement already satisfied: regex>=2024.9.11 in /usr/local/lib/python3.11/dist-packages (from dateparser->python-binance) (2024.11.6)\n",
            "Requirement already satisfied: tzlocal>=0.2 in /usr/local/lib/python3.11/dist-packages (from dateparser->python-binance) (5.3.1)\n",
            "Requirement already satisfied: charset-normalizer<4,>=2 in /usr/local/lib/python3.11/dist-packages (from requests->python-binance) (3.4.2)\n",
            "Requirement already satisfied: idna<4,>=2.5 in /usr/local/lib/python3.11/dist-packages (from requests->python-binance) (3.10)\n",
            "Requirement already satisfied: urllib3<3,>=1.21.1 in /usr/local/lib/python3.11/dist-packages (from requests->python-binance) (2.4.0)\n",
            "Requirement already satisfied: certifi>=2017.4.17 in /usr/local/lib/python3.11/dist-packages (from requests->python-binance) (2025.6.15)\n",
            "Requirement already satisfied: typing-extensions>=4.2 in /usr/local/lib/python3.11/dist-packages (from aiosignal>=1.1.2->aiohttp->python-binance) (4.14.1)\n"
          ]
        }
      ]
    },
    {
      "cell_type": "code",
      "source": [
        "import logging\n",
        "\n",
        "# ✅ Configure logging\n",
        "logging.basicConfig(\n",
        "    filename='bot.log',\n",
        "    level=logging.INFO,\n",
        "    format='%(asctime)s - %(levelname)s - %(message)s'\n",
        ")\n",
        "\n",
        "class BasicBot:\n",
        "    def __init__(self, api_key, api_secret, testnet=True):\n",
        "        # Commented out real API init\n",
        "        # self.client = Client(api_key, api_secret)\n",
        "        # if testnet:\n",
        "        #     self.client.FUTURES_URL = 'https://testnet.binancefuture.com/fapi'\n",
        "        logging.info(\"Simulated bot initialized\")\n",
        "\n",
        "    def place_order(self, symbol, side, quantity, order_type=\"MARKET\", price=None):\n",
        "        try:\n",
        "            order = {\n",
        "                \"symbol\": symbol,\n",
        "                \"side\": side,\n",
        "                \"quantity\": quantity,\n",
        "                \"order_type\": order_type,\n",
        "                \"price\": price if price else \"Market Price\"\n",
        "            }\n",
        "            logging.info(f\"Simulated Order: {order}\")\n",
        "            print(\"✅ Simulated order placed:\", order)\n",
        "            return order\n",
        "        except Exception as e:\n",
        "            logging.error(f\"Order Error: {e}\")\n",
        "            print(\"❌ Error:\", e)\n",
        "            return None\n",
        "\n",
        "def main():\n",
        "    api_key = 'sample_key'\n",
        "    api_secret = 'sample_secret'\n",
        "    bot = BasicBot(api_key, api_secret)\n",
        "\n",
        "    symbol = input(\"Enter symbol (e.g. BTCUSDT): \").upper()\n",
        "    side = input(\"BUY or SELL: \").upper()\n",
        "    quantity = float(input(\"Enter quantity: \"))\n",
        "    order_type = input(\"Order type (MARKET or LIMIT): \").upper()\n",
        "\n",
        "    if order_type == 'LIMIT':\n",
        "        price = float(input(\"Enter limit price: \"))\n",
        "        bot.place_order(symbol, side, quantity, order_type, price)\n",
        "    else:\n",
        "        bot.place_order(symbol, side, quantity)\n",
        "\n",
        "if __name__ == \"__main__\":\n",
        "    main()\n"
      ],
      "metadata": {
        "colab": {
          "base_uri": "https://localhost:8080/"
        },
        "id": "2hiAmJ-HuI2N",
        "outputId": "ca3b7707-0853-4bf2-d157-17b05727228f"
      },
      "execution_count": null,
      "outputs": [
        {
          "output_type": "stream",
          "name": "stdout",
          "text": [
            "Enter symbol (e.g. BTCUSDT): BTCUSDT\n",
            "BUY or SELL: 0\n",
            "Enter quantity: 0\n",
            "Order type (MARKET or LIMIT): LIMIT\n",
            "Enter limit price: 0\n",
            "✅ Simulated order placed: {'symbol': 'BTCUSDT', 'side': '0', 'quantity': 0.0, 'order_type': 'LIMIT', 'price': 'Market Price'}\n"
          ]
        }
      ]
    },
    {
      "cell_type": "code",
      "source": [
        "from binance.enums import *\n",
        "import logging\n",
        "\n",
        "# Logging setup\n",
        "logging.basicConfig(filename='bot.log', level=logging.INFO,\n",
        "                    format='%(asctime)s - %(levelname)s - %(message)s')\n",
        "\n",
        "# Simulated order\n",
        "order = {\n",
        "    \"symbol\": \"BTCUSDT\",\n",
        "    \"side\": \"BUY\",\n",
        "    \"quantity\": 0.01,\n",
        "    \"order_type\": ORDER_TYPE_MARKET,\n",
        "    \"price\": \"Market Price\"\n",
        "}\n",
        "\n",
        "logging.info(f\"Simulated Order: {order}\")\n",
        "print(\"Simulated order placed.\")\n"
      ],
      "metadata": {
        "colab": {
          "base_uri": "https://localhost:8080/"
        },
        "id": "ADPy4N0O4PpS",
        "outputId": "bd90be29-6f6f-46c9-96fe-d59a1e1a1fd1"
      },
      "execution_count": null,
      "outputs": [
        {
          "output_type": "stream",
          "name": "stdout",
          "text": [
            "Simulated order placed.\n"
          ]
        }
      ]
    },
    {
      "cell_type": "code",
      "source": [
        "!rm -f bot.log"
      ],
      "metadata": {
        "id": "561eXUFB4i0n"
      },
      "execution_count": null,
      "outputs": []
    },
    {
      "cell_type": "code",
      "source": [
        "import logging\n",
        "from binance.enums import *\n",
        "\n",
        "# Force reconfigure logging (Colab-safe)\n",
        "for handler in logging.root.handlers[:]:\n",
        "    logging.root.removeHandler(handler)\n",
        "\n",
        "logging.basicConfig(\n",
        "    filename='bot.log',\n",
        "    filemode='w',  # overwrite each time\n",
        "    level=logging.INFO,\n",
        "    format='%(asctime)s - %(levelname)s - %(message)s'\n",
        ")\n",
        "\n",
        "# Simulate order\n",
        "order = {\n",
        "    \"symbol\": \"BTCUSDT\",\n",
        "    \"side\": \"BUY\",\n",
        "    \"quantity\": 0.01,\n",
        "    \"order_type\": ORDER_TYPE_MARKET,\n",
        "    \"price\": \"Market Price\"\n",
        "}\n",
        "\n",
        "# Log it\n",
        "logging.info(f\"Simulated Order: {order}\")\n",
        "print(\"✅ Simulated order placed and logged.\")\n"
      ],
      "metadata": {
        "colab": {
          "base_uri": "https://localhost:8080/"
        },
        "id": "EJMXblK65ZzE",
        "outputId": "bb4abc96-dd69-4e86-d556-8818aa91efad"
      },
      "execution_count": null,
      "outputs": [
        {
          "output_type": "stream",
          "name": "stdout",
          "text": [
            "✅ Simulated order placed and logged.\n"
          ]
        }
      ]
    },
    {
      "cell_type": "code",
      "source": [
        "!cat bot.log\n"
      ],
      "metadata": {
        "colab": {
          "base_uri": "https://localhost:8080/"
        },
        "id": "xvF53Qw-5fkQ",
        "outputId": "e2982b05-4694-4836-ba1f-2c9048447fce"
      },
      "execution_count": null,
      "outputs": [
        {
          "output_type": "stream",
          "name": "stdout",
          "text": [
            "2025-07-11 14:31:09,293 - INFO - Simulated Order: {'symbol': 'BTCUSDT', 'side': 'BUY', 'quantity': 0.01, 'order_type': 'MARKET', 'price': 'Market Price'}\n"
          ]
        }
      ]
    },
    {
      "cell_type": "code",
      "source": [
        "from google.colab import files\n",
        "files.download('bot.log')\n"
      ],
      "metadata": {
        "colab": {
          "base_uri": "https://localhost:8080/",
          "height": 17
        },
        "id": "RoUDw4cQ5hJI",
        "outputId": "662b9b49-12c7-454b-a3dc-f6b0de8b5646"
      },
      "execution_count": null,
      "outputs": [
        {
          "output_type": "display_data",
          "data": {
            "text/plain": [
              "<IPython.core.display.Javascript object>"
            ],
            "application/javascript": [
              "\n",
              "    async function download(id, filename, size) {\n",
              "      if (!google.colab.kernel.accessAllowed) {\n",
              "        return;\n",
              "      }\n",
              "      const div = document.createElement('div');\n",
              "      const label = document.createElement('label');\n",
              "      label.textContent = `Downloading \"${filename}\": `;\n",
              "      div.appendChild(label);\n",
              "      const progress = document.createElement('progress');\n",
              "      progress.max = size;\n",
              "      div.appendChild(progress);\n",
              "      document.body.appendChild(div);\n",
              "\n",
              "      const buffers = [];\n",
              "      let downloaded = 0;\n",
              "\n",
              "      const channel = await google.colab.kernel.comms.open(id);\n",
              "      // Send a message to notify the kernel that we're ready.\n",
              "      channel.send({})\n",
              "\n",
              "      for await (const message of channel.messages) {\n",
              "        // Send a message to notify the kernel that we're ready.\n",
              "        channel.send({})\n",
              "        if (message.buffers) {\n",
              "          for (const buffer of message.buffers) {\n",
              "            buffers.push(buffer);\n",
              "            downloaded += buffer.byteLength;\n",
              "            progress.value = downloaded;\n",
              "          }\n",
              "        }\n",
              "      }\n",
              "      const blob = new Blob(buffers, {type: 'application/binary'});\n",
              "      const a = document.createElement('a');\n",
              "      a.href = window.URL.createObjectURL(blob);\n",
              "      a.download = filename;\n",
              "      div.appendChild(a);\n",
              "      a.click();\n",
              "      div.remove();\n",
              "    }\n",
              "  "
            ]
          },
          "metadata": {}
        },
        {
          "output_type": "display_data",
          "data": {
            "text/plain": [
              "<IPython.core.display.Javascript object>"
            ],
            "application/javascript": [
              "download(\"download_583297ee-393f-4eeb-a434-e0261696224e\", \"bot.log\", 154)"
            ]
          },
          "metadata": {}
        }
      ]
    },
    {
      "cell_type": "code",
      "source": [
        "with open('/content/bot.py', 'w') as f:\n",
        "    f.write(\"\"\"from binance.enums import *\n",
        "import logging\n",
        "\n",
        "# ✅ Configure logging\n",
        "logging.basicConfig(\n",
        "    filename='bot.log',\n",
        "    level=logging.INFO,\n",
        "    format='%(asctime)s - %(levelname)s - %(message)s'\n",
        ")\n",
        "\n",
        "class BasicBot:\n",
        "    def __init__(self, api_key, api_secret, testnet=True):\n",
        "        # Commented out real Binance Client initialization to simulate bot\n",
        "        # from binance.client import Client\n",
        "        # self.client = Client(api_key, api_secret)\n",
        "        # if testnet:\n",
        "        #     self.client.FUTURES_URL = 'https://testnet.binancefuture.com/fapi'\n",
        "        logging.info(\"Simulated bot initialized\")\n",
        "\n",
        "    def place_order(self, symbol, side, quantity, order_type=\"MARKET\", price=None):\n",
        "        try:\n",
        "            order = {\n",
        "                \"symbol\": symbol,\n",
        "                \"side\": side,\n",
        "                \"quantity\": quantity,\n",
        "                \"order_type\": order_type,\n",
        "                \"price\": price if price else \"Market Price\"\n",
        "            }\n",
        "            logging.info(f\"Simulated Order: {order}\")\n",
        "            print(\"✅ Simulated order placed:\", order)\n",
        "            return order\n",
        "        except Exception as e:\n",
        "            logging.error(f\"Order Error: {e}\")\n",
        "            print(\"❌ Error:\", e)\n",
        "            return None\n",
        "\n",
        "def main():\n",
        "    api_key = 'sample_api_key'\n",
        "    api_secret = 'sample_api_secret'\n",
        "    bot = BasicBot(api_key, api_secret)\n",
        "\n",
        "    symbol = input(\"Enter symbol (e.g. BTCUSDT): \").upper()\n",
        "    side = input(\"BUY or SELL: \").upper()\n",
        "    quantit\n",
        "\n",
        ")\n",
        "\"\"\")\n"
      ],
      "metadata": {
        "id": "9hh3V9zYuZLh"
      },
      "execution_count": null,
      "outputs": []
    }
  ]
}